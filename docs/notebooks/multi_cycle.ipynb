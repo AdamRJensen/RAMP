{
 "cells": [
  {
   "cell_type": "markdown",
   "id": "74d8e1ab",
   "metadata": {},
   "source": [
    "# Appliances with duty cycles"
   ]
  },
  {
   "cell_type": "markdown",
   "id": "938ce72f",
   "metadata": {},
   "source": [
    "\n",
    "Some appliances may operate based on fixed duty cycle. For instance, you may think of a\n",
    "dishwasher that follows a pre-determined program. This can be modelled by means of the \n",
    "`fixed_cycle` parameter, which allows to define a duty cycle consisting of up to two temporal\n",
    "operation segments with distinct power consumption levels. \n",
    "\n",
    "Furthermore, we acknowledge that some of the appliances that can operate based on duty cucles\n",
    "may still follow multiple, different duty cycles throughout a day or across seasons. An example\n",
    "of an appliance characterised by variable duty cycles is a fridge. Fridges tend to follow \n",
    "different duty cycles throughout the day, depending on the ambient temperature (which also varies\n",
    "across seasons) and/or frequency of user interaction (e.g., how often the door gets opened).\n",
    "Accordingly, RAMP allows modelling up to 3 different duty cycles per appliance, giving room for\n",
    "modulating the appliance's behaviour depending on any given factor of interest.\n",
    "\n",
    "In this example, we model a fridge with 3 different duty cycles. The\n",
    "time windows are defined for 3 different cycles across 3 different season\n",
    "types:\n",
    "\n",
    "\n",
    "| season type |               Standard cycle              |  Intermediate cycle |   Intensive cycle   |\n",
    "|-------------|:-----------------------------------------:|:-------------------:|:-------------------:|\n",
    "| Hot         | 00:00:00 - 04:59:00 & 20:01:00 - 23:59:00 | 05:00:00 - 07:59:00 | 08:00:00 - 20:00:00 |\n",
    "| Warm        | 00:00:00 - 04:59:00 & 18:01:00 - 23:59:00 | 05:00:00 - 09:39:00 | 09:40:00 - 18:00:00 |\n",
    "| Cold        | 00:00:00 - 04:59:00 & 20:01:00 - 23:59:00 | 05:00:00 - 20:00:00 |          -          |"
   ]
  },
  {
   "cell_type": "markdown",
   "id": "69d9e6f8",
   "metadata": {},
   "source": [
    "### Creating the user and appliance"
   ]
  },
  {
   "cell_type": "code",
   "execution_count": 1,
   "id": "827138a1",
   "metadata": {},
   "outputs": [],
   "source": [
    "# importing functions\n",
    "from ramp import User, UseCase, get_day_type\n",
    "import pandas as pd"
   ]
  },
  {
   "cell_type": "code",
   "execution_count": 2,
   "id": "41b04c5e",
   "metadata": {},
   "outputs": [],
   "source": [
    "# creating user\n",
    "household = User()"
   ]
  },
  {
   "cell_type": "code",
   "execution_count": 3,
   "id": "488c1fe3",
   "metadata": {},
   "outputs": [
    {
     "name": "stderr",
     "output_type": "stream",
     "text": [
      "/home/fl/anaconda3/envs/ramp/lib/python3.8/site-packages/rampdemand-0.5.0-py3.8.egg/ramp/core/core.py:850: DeprecationWarning: This function is deprecated and not supported since version v0.4.0. Instead use the add_appliance method.\n",
      "  warnings.warn(\"This function is deprecated and not supported since version v0.4.0. Instead use the add_appliance method.\", DeprecationWarning)\n"
     ]
    }
   ],
   "source": [
    "# creating the appliance\n",
    "fridge = household.Appliance(\n",
    "    name=\"Fridge\",\n",
    "    number=1,\n",
    "    power=200,\n",
    "    num_windows=1,\n",
    "    func_time=1400,\n",
    "    time_fraction_random_variability=0,\n",
    "    func_cycle=30,\n",
    "    fixed=\"yes\",\n",
    "    fixed_cycle=3,  # number of cycles\n",
    ")"
   ]
  },
  {
   "cell_type": "code",
   "execution_count": 4,
   "id": "7d56b3a5",
   "metadata": {},
   "outputs": [],
   "source": [
    "# setting the functioning windows\n",
    "fridge.windows([0, 1440])  # always on during the whole day, for all days of the year"
   ]
  },
  {
   "cell_type": "markdown",
   "id": "9ca3e204",
   "metadata": {},
   "source": [
    "### Characterising the specific cycles\n",
    "\n",
    "As anticipated above, each cycle is characterised by two operation segments at different power levels. They can be defined as per the code below. In addition, it is possile to apply a random variability to the exact duration of the two segments (see the API documentation)."
   ]
  },
  {
   "cell_type": "code",
   "execution_count": 5,
   "id": "d7dba56d",
   "metadata": {},
   "outputs": [],
   "source": [
    "# assiging the specific cycles\n",
    "# first cycle: intensive cycle\n",
    "fridge.specific_cycle_1(\n",
    "    p_11=200, # power level for the first operation segment\n",
    "    t_11=10,  # duration of the first operation segment\n",
    "    p_12=5,   # power level for the second operation segment\n",
    "    t_12=20,  # duration of the second operation segment\n",
    ")\n",
    "\n",
    "# second cycle: intermediate cycle\n",
    "fridge.specific_cycle_2(\n",
    "    p_21=200,\n",
    "    t_21=15,\n",
    "    p_22=5,\n",
    "    t_22=15,\n",
    ")\n",
    "\n",
    "# third cycle: standard cycle\n",
    "fridge.specific_cycle_3(\n",
    "    p_31=200,\n",
    "    t_31=20,\n",
    "    p_32=5,\n",
    "    t_32=10,\n",
    ")"
   ]
  },
  {
   "cell_type": "markdown",
   "id": "d503eb1f",
   "metadata": {},
   "source": [
    "After defining the cycle power and duration parameters, the time windows within a day at which the cycles occur should be specified by means of the 'cycle window' (`cw`). In fact, up to two time windows within a day can be specified for each of the 3 cycles. For instance, for `specific_cycle_3`, you may define an occurrence in the early morning (`cw31` in the code below) as well as one in the late evening (`cw32`).The windows defined across all cycles should not overlap."
   ]
  },
  {
   "cell_type": "code",
   "execution_count": 6,
   "id": "0ffe55dc",
   "metadata": {},
   "outputs": [],
   "source": [
    "# defining cycle behaviour\n",
    "fridge.cycle_behaviour(\n",
    "     cw11=[0, 229], cw12=[1201, 1440], cw21=[300, 479], cw31=[480, 1200]\n",
    ")"
   ]
  },
  {
   "cell_type": "markdown",
   "id": "bdeb861f",
   "metadata": {},
   "source": [
    "### Building the profiles"
   ]
  },
  {
   "cell_type": "code",
   "execution_count": 7,
   "id": "9b9c1541",
   "metadata": {},
   "outputs": [],
   "source": [
    "use_case = UseCase(users=[household])\n",
    "peak_time_range = use_case.calc_peak_time_range()"
   ]
  },
  {
   "cell_type": "code",
   "execution_count": 8,
   "id": "49589857",
   "metadata": {},
   "outputs": [],
   "source": [
    "# days to build the profiles\n",
    "days = [\n",
    "    \"2020-05-16\", # a day in the 'Cold' season, based on RAMP's validation case study in Bolivia\n",
    "    \"2020-08-16\", # a day in the 'Warm' season\n",
    "    \"2020-12-16\", # a day in the 'Hot' season \n",
    "]\n",
    "\n",
    "profiles = pd.DataFrame(index=range(0, 1440), columns=days)\n",
    "\n",
    "for day_idx, day in enumerate(days):\n",
    "    profile = household.generate_single_load_profile(\n",
    "        prof_i=day_idx,  # the day to generate the profile\n",
    "        peak_time_range=peak_time_range,\n",
    "        day_type=get_day_type(day),\n",
    "    )\n",
    "\n",
    "    profiles[day] = profile"
   ]
  },
  {
   "cell_type": "code",
   "execution_count": 9,
   "id": "fa5688ff",
   "metadata": {},
   "outputs": [
    {
     "name": "stdout",
     "output_type": "stream",
     "text": [
      "      2020-05-16  2020-08-16  2020-12-16\n",
      "0          0.001       0.001       0.001\n",
      "1          0.001       0.001       0.001\n",
      "2          0.001       0.001       0.001\n",
      "3          0.001       0.001       0.001\n",
      "4          0.001     200.000     200.000\n",
      "...          ...         ...         ...\n",
      "1435     200.000       5.000       0.001\n",
      "1436     200.000       5.000       0.001\n",
      "1437     200.000       5.000       0.001\n",
      "1438       0.001       5.000       0.001\n",
      "1439       0.001       0.001       0.001\n",
      "\n",
      "[1440 rows x 3 columns]\n"
     ]
    }
   ],
   "source": [
    "print(profiles)"
   ]
  },
  {
   "cell_type": "code",
   "execution_count": 10,
   "id": "2143c46d-b324-4844-ae06-f55d81d48bce",
   "metadata": {},
   "outputs": [
    {
     "data": {
      "text/plain": [
       "<Axes: >"
      ]
     },
     "execution_count": 10,
     "metadata": {},
     "output_type": "execute_result"
    },
    {
     "data": {
      "image/png": "[encoded data removed]",
      "text/plain": [
       "<Figure size 640x480 with 1 Axes>"
      ]
     },
     "metadata": {},
     "output_type": "display_data"
    }
   ],
   "source": [
    "# plotting a part of the days\n",
    "profiles.iloc[400:500].plot()"
   ]
  },
  {
   "cell_type": "code",
   "execution_count": null,
   "id": "b27e1a44-193f-4ca9-808f-a83597f026d4",
   "metadata": {},
   "outputs": [],
   "source": []
  }
 ],
 "metadata": {
  "kernelspec": {
   "display_name": "Python 3 (ipykernel)",
   "language": "python",
   "name": "python3"
  },
  "language_info": {
   "codemirror_mode": {
    "name": "ipython",
    "version": 3
   },
   "file_extension": ".py",
   "mimetype": "text/x-python",
   "name": "python",
   "nbconvert_exporter": "python",
   "pygments_lexer": "ipython3",
   "version": "3.8.18"
  }
 },
 "nbformat": 4,
 "nbformat_minor": 5
}
